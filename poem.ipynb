{
  "nbformat": 4,
  "nbformat_minor": 0,
  "metadata": {
    "colab": {
      "name": "poem.ipynb",
      "provenance": [],
      "authorship_tag": "ABX9TyN1z8MK4FTTVczL5b0YEejQ",
      "include_colab_link": true
    },
    "kernelspec": {
      "name": "python3",
      "display_name": "Python 3"
    }
  },
  "cells": [
    {
      "cell_type": "markdown",
      "metadata": {
        "id": "view-in-github",
        "colab_type": "text"
      },
      "source": [
        "<a href=\"https://colab.research.google.com/github/yojoe101/crawler/blob/master/poem.ipynb\" target=\"_parent\"><img src=\"https://colab.research.google.com/assets/colab-badge.svg\" alt=\"Open In Colab\"/></a>"
      ]
    },
    {
      "cell_type": "code",
      "metadata": {
        "id": "gFfh8onksysN",
        "colab_type": "code",
        "colab": {}
      },
      "source": [
        "import pandas as pd\n",
        "from urllib.request import urlretrieve\n",
        "url = \"https://github.com/Elwing-Chou/ml0716/raw/master/poem_train.csv\"\n",
        "urlretrieve(url,\"train.csv\")\n",
        "train_df = pd.read_csv(\"train.csv\",encoding=\"utf-8\")\n",
        "url = \"https://github.com/Elwing-Chou/ml0716/raw/master/poem_test.csv\"\n",
        "urlretrieve(url,\"test.csv\")\n",
        "test_df = pd.read_csv(\"test.csv\",encoding=\"utf-8\")\n"
      ],
      "execution_count": 4,
      "outputs": []
    },
    {
      "cell_type": "code",
      "metadata": {
        "id": "4HD_MtiRuzsN",
        "colab_type": "code",
        "colab": {}
      },
      "source": [
        "u = train_df[\"作者\"].unique()\n",
        "trains = {n:i for i, n in enumerate(u)}\n",
        "trains_r = {i:n for i, n in enumerate(u)}\n",
        "y_train = train_df[\"作者\"].replace(trains)\n",
        "y_test = test_df[\"作者\"].replace(trains)\n",
        "y_test"
      ],
      "execution_count": null,
      "outputs": []
    },
    {
      "cell_type": "code",
      "metadata": {
        "id": "RZ2oMVtwwXpm",
        "colab_type": "code",
        "colab": {
          "base_uri": "https://localhost:8080/",
          "height": 86
        },
        "outputId": "1b09f503-d96c-44c0-b511-3d1e265586d3"
      },
      "source": [
        "import jieba\n",
        "def poemcut(p):\n",
        "  return \"\".join(jieba.cut(p))\n",
        "x_train = train_df[\"內容\"].apply(poemcut)\n",
        "x_test = test_df[\"內容\"].apply(poemcut)"
      ],
      "execution_count": 11,
      "outputs": [
        {
          "output_type": "stream",
          "text": [
            "Building prefix dict from the default dictionary ...\n",
            "Dumping model to file cache /tmp/jieba.cache\n",
            "Loading model cost 0.976 seconds.\n",
            "Prefix dict has been built successfully.\n"
          ],
          "name": "stderr"
        }
      ]
    },
    {
      "cell_type": "code",
      "metadata": {
        "id": "AAamisMs010S",
        "colab_type": "code",
        "colab": {}
      },
      "source": [
        "from sklearn.feature_extraction.text import CountVectorizer\n",
        "vec = CountVectorizer()\n",
        "x_train_count = vec.fit_transform(x_train)\n",
        "x_test_count = vec.transform(x_test)"
      ],
      "execution_count": 14,
      "outputs": []
    },
    {
      "cell_type": "code",
      "metadata": {
        "id": "gWa2Xugv1X7J",
        "colab_type": "code",
        "colab": {}
      },
      "source": [
        "vec.vocabulary_\n",
        "# vec.vocabulary_[\":\"]\n",
        "# 收尋是否有全形符號和換行有被去掉"
      ],
      "execution_count": null,
      "outputs": []
    }
  ]
}