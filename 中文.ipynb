{
  "nbformat": 4,
  "nbformat_minor": 0,
  "metadata": {
    "colab": {
      "name": "中文.ipynb",
      "provenance": [],
      "authorship_tag": "ABX9TyPXQ6S163zV/60hJ++Ed7nz",
      "include_colab_link": true
    },
    "kernelspec": {
      "name": "python3",
      "display_name": "Python 3"
    }
  },
  "cells": [
    {
      "cell_type": "markdown",
      "metadata": {
        "id": "view-in-github",
        "colab_type": "text"
      },
      "source": [
        "<a href=\"https://colab.research.google.com/github/yojoe101/crawler/blob/master/%E4%B8%AD%E6%96%87.ipynb\" target=\"_parent\"><img src=\"https://colab.research.google.com/assets/colab-badge.svg\" alt=\"Open In Colab\"/></a>"
      ]
    },
    {
      "cell_type": "code",
      "metadata": {
        "id": "TxUI5hgL5g8l",
        "colab_type": "code",
        "colab": {}
      },
      "source": [
        "from opencc import OpenCC\n",
        "cc = OpenCC('s2twp')  \n",
        "converted = cc.convert(s)"
      ],
      "execution_count": null,
      "outputs": []
    },
    {
      "cell_type": "code",
      "metadata": {
        "id": "2YDPEaAX584k",
        "colab_type": "code",
        "colab": {}
      },
      "source": [
        "s=\"\"\"该小说历史背景突出，场景纷繁，气势宏伟，具有鲜明的“英雄史诗”风格；在人物创造与情节安排上，它打破了传统武侠小说一味传奇，将人物作为情节附庸的模式，坚持以创造个性化的人物形象为中心，坚持人物统帅故事，按照人物性格的发展需要及其内在可能性、必然性来设置情节，从而使这部小说达到了事虽奇人却真的妙境。\"\"\""
      ],
      "execution_count": null,
      "outputs": []
    },
    {
      "cell_type": "code",
      "metadata": {
        "id": "qkkBsDfx8pE5",
        "colab_type": "code",
        "colab": {
          "base_uri": "https://localhost:8080/",
          "height": 138
        },
        "outputId": "02401d51-8a6e-4997-efd4-cf817b385592"
      },
      "source": [
        "import jieba \n",
        "from urllib.request import urlretrieve\n",
        "url =\"https://github.com/fxsjy/jieba/raw/master/extra_dict/dict.txt.big\"\n",
        "urlretrieve(url,\"dict.txt.big\")\n",
        "jieba.set_dictionary(\"dict.txt.big\")\n",
        "#另增加自用辭典\n",
        "#jieba.load_userdict(\"辭典名.text\")\n",
        "\" \".join(jieba.cut(converted))"
      ],
      "execution_count": null,
      "outputs": [
        {
          "output_type": "stream",
          "text": [
            "Building prefix dict from /content/dict.txt.big ...\n",
            "Dumping model to file cache /tmp/jieba.u501edca284da514cb68b53a20324f4e3.cache\n",
            "Loading model cost 1.559 seconds.\n",
            "Prefix dict has been built successfully.\n"
          ],
          "name": "stderr"
        },
        {
          "output_type": "execute_result",
          "data": {
            "application/vnd.google.colaboratory.intrinsic+json": {
              "type": "string"
            },
            "text/plain": [
              "'該 小說 歷史背景 突出 ， 場景 紛繁 ， 氣勢 巨集 偉 ， 具有 鮮明 的 “ 英雄 史詩 ” 風格 ； 在 人物 創造 與 情節 安排 上 ， 它 打破 了 傳統 武俠小說 一味 傳奇 ， 將 人物 作為 情節 附庸 的 模式 ， 堅持 以 創造 個性化 的 人物形象 為 中心 ， 堅持 人物 統帥 故事 ， 按照 人物性格 的 發展 需要 及其 內在 可能性 、 必然性 來 設定 情節 ， 從而 使 這部 小說 達到 了 事 雖 奇人 卻 真的 妙境 。'"
            ]
          },
          "metadata": {
            "tags": []
          },
          "execution_count": 10
        }
      ]
    },
    {
      "cell_type": "code",
      "metadata": {
        "id": "I12QNG2uZwQb",
        "colab_type": "code",
        "colab": {
          "base_uri": "https://localhost:8080/",
          "height": 363
        },
        "outputId": "08e918f8-9014-436b-da35-4bc467495765"
      },
      "source": [
        "import jieba.analyse\n",
        "jieba.analyse.extract_tags(converted)"
      ],
      "execution_count": null,
      "outputs": [
        {
          "output_type": "execute_result",
          "data": {
            "text/plain": [
              "['情節',\n",
              " '小說',\n",
              " '創造',\n",
              " '堅持',\n",
              " '人物',\n",
              " '歷史背景',\n",
              " '場景',\n",
              " '紛繁',\n",
              " '氣勢',\n",
              " '巨集',\n",
              " '鮮明',\n",
              " '史詩',\n",
              " '風格',\n",
              " '傳統',\n",
              " '武俠小說',\n",
              " '傳奇',\n",
              " '作為',\n",
              " '個性化',\n",
              " '統帥',\n",
              " '發展']"
            ]
          },
          "metadata": {
            "tags": []
          },
          "execution_count": 11
        }
      ]
    }
  ]
}